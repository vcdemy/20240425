{
 "cells": [
  {
   "cell_type": "markdown",
   "id": "1eec23da-2ce4-4b0d-94e5-cbdbd66debfa",
   "metadata": {},
   "source": [
    "# 20240425筆記"
   ]
  },
  {
   "cell_type": "code",
   "execution_count": null,
   "id": "f28a64d3-5430-40cd-9e99-90ffb8f02f2f",
   "metadata": {},
   "outputs": [],
   "source": [
    "import cv2\n",
    "import numpy as np\n",
    "import matplotlib.pyplot as plt\n",
    "import plotly.express as px"
   ]
  },
  {
   "cell_type": "code",
   "execution_count": null,
   "id": "3442f67a-ab30-4f38-a39b-7bf21c32b7fd",
   "metadata": {},
   "outputs": [],
   "source": [
    "rect = cv2.getStructuringElement(cv2.MORPH_RECT, (3, 3))\n",
    "ellipse = cv2.getStructuringElement(cv2.MORPH_ELLIPSE, (3, 3))"
   ]
  },
  {
   "cell_type": "code",
   "execution_count": null,
   "id": "1cb0e761-e44e-4b38-882f-fa5c16531ef8",
   "metadata": {},
   "outputs": [],
   "source": [
    "rect"
   ]
  },
  {
   "cell_type": "code",
   "execution_count": null,
   "id": "2570d585-4700-4a97-8449-120c9c7928cb",
   "metadata": {},
   "outputs": [],
   "source": [
    "ellipse"
   ]
  },
  {
   "cell_type": "code",
   "execution_count": null,
   "id": "2f5c7887-7b4c-4226-ab66-3c7b7489dd0a",
   "metadata": {},
   "outputs": [],
   "source": [
    "line1 = [0]*3+[255]*3+[0]*3\n",
    "line2 = [255]*3+[0]*3+[255]*3\n",
    "print(line1)\n",
    "print(line2)"
   ]
  },
  {
   "cell_type": "code",
   "execution_count": null,
   "id": "67f91f56-6e38-494e-a9eb-bbf257e988ba",
   "metadata": {},
   "outputs": [],
   "source": [
    "img = np.array([line1]*3+[line2]*3+[line1]*3, dtype='uint8')"
   ]
  },
  {
   "cell_type": "code",
   "execution_count": null,
   "id": "ae639af4-103a-4318-a0b3-5f7af25d9f9f",
   "metadata": {},
   "outputs": [],
   "source": [
    "img"
   ]
  },
  {
   "cell_type": "code",
   "execution_count": null,
   "id": "0b1118a5-3a80-4aed-b8bc-df69c1b54e82",
   "metadata": {},
   "outputs": [],
   "source": [
    "plt.imshow(img, cmap='gray')"
   ]
  },
  {
   "cell_type": "code",
   "execution_count": null,
   "id": "964149ff-80e2-463f-b122-64098626b350",
   "metadata": {},
   "outputs": [],
   "source": [
    "cv2.erode(img, rect)"
   ]
  },
  {
   "cell_type": "code",
   "execution_count": null,
   "id": "b441316a-fa50-4b56-8df8-c2d1cf505fa8",
   "metadata": {},
   "outputs": [],
   "source": [
    "cv2.erode(img, ellipse)"
   ]
  },
  {
   "cell_type": "code",
   "execution_count": null,
   "id": "f5d9975a-a9b2-4a06-a901-ae8b310eadb0",
   "metadata": {},
   "outputs": [],
   "source": [
    "kernel = np.array([[1, 1, 1]])\n",
    "# kernel = np.array([[1], [1], [1]])"
   ]
  },
  {
   "cell_type": "code",
   "execution_count": null,
   "id": "cb4cd5aa-4a68-4bd3-9022-10f91559ff02",
   "metadata": {},
   "outputs": [],
   "source": [
    "img"
   ]
  },
  {
   "cell_type": "code",
   "execution_count": null,
   "id": "f91fbd54-2fdb-4586-9e16-ded4f466ac88",
   "metadata": {},
   "outputs": [],
   "source": [
    "cv2.erode(img, kernel)"
   ]
  },
  {
   "cell_type": "code",
   "execution_count": null,
   "id": "b649c47c-dea2-4a04-a79c-62b64d05a648",
   "metadata": {},
   "outputs": [],
   "source": [
    "plt.imshow(cv2.erode(img, kernel), cmap=\"gray\")"
   ]
  },
  {
   "cell_type": "code",
   "execution_count": null,
   "id": "bd00ea29-1931-4337-85b1-2081312f8688",
   "metadata": {},
   "outputs": [],
   "source": [
    "cv2.dilate(img, kernel)"
   ]
  },
  {
   "cell_type": "markdown",
   "id": "dd8227e2-86aa-4813-96c5-b8a92d1abdcb",
   "metadata": {},
   "source": [
    "## Thresholding v.s. adaptiveThresholding"
   ]
  },
  {
   "cell_type": "code",
   "execution_count": null,
   "id": "dab7914a-d8b4-46ac-8d22-3e9bc9367897",
   "metadata": {},
   "outputs": [],
   "source": [
    "doc = cv2.imread('document.jpg', 0)"
   ]
  },
  {
   "cell_type": "code",
   "execution_count": null,
   "id": "abe5d0bd-6dbb-44d8-8cd7-115957f28e67",
   "metadata": {},
   "outputs": [],
   "source": [
    "plt.imshow(doc, cmap='gray')"
   ]
  },
  {
   "cell_type": "code",
   "execution_count": null,
   "id": "7422606f-4fdf-4816-9748-1d50fb06bdb5",
   "metadata": {},
   "outputs": [],
   "source": [
    "# import plotly.express as px\n",
    "px.imshow(doc, color_continuous_scale=\"gray\")"
   ]
  },
  {
   "cell_type": "code",
   "execution_count": null,
   "id": "56e26d1b-4e9f-441d-ab50-a533e232fa41",
   "metadata": {},
   "outputs": [],
   "source": [
    "thresh, thresh_doc = cv2.threshold(doc, 127, 255, cv2.THRESH_BINARY)"
   ]
  },
  {
   "cell_type": "code",
   "execution_count": null,
   "id": "336d76ca-e104-4b03-8766-2fb289293dc6",
   "metadata": {},
   "outputs": [],
   "source": [
    "plt.imshow(thresh_doc, cmap='gray')"
   ]
  },
  {
   "cell_type": "code",
   "execution_count": null,
   "id": "f5303634-2de1-468c-9be8-8360e324b6e5",
   "metadata": {},
   "outputs": [],
   "source": [
    "output1 = cv2.adaptiveThreshold(doc, 255, cv2.ADAPTIVE_THRESH_MEAN_C, cv2.THRESH_BINARY,11, 7)"
   ]
  },
  {
   "cell_type": "code",
   "execution_count": null,
   "id": "472cc7d1-4a23-4251-a7a7-91a6e1a5220c",
   "metadata": {},
   "outputs": [],
   "source": [
    "plt.imshow(output1, cmap='gray')"
   ]
  },
  {
   "cell_type": "code",
   "execution_count": null,
   "id": "f65828ff-9800-4c61-a5c3-9b4897bde7bc",
   "metadata": {},
   "outputs": [],
   "source": [
    "output2 = cv2.adaptiveThreshold(doc, 255, cv2.ADAPTIVE_THRESH_GAUSSIAN_C, cv2.THRESH_BINARY,11, 10)"
   ]
  },
  {
   "cell_type": "code",
   "execution_count": null,
   "id": "7739cea0-ce80-4516-84aa-8f94e4e7aced",
   "metadata": {},
   "outputs": [],
   "source": [
    "plt.imshow(output2, cmap='gray')"
   ]
  },
  {
   "cell_type": "code",
   "execution_count": null,
   "id": "f105fbee-87fc-4315-b586-c812434167fc",
   "metadata": {},
   "outputs": [],
   "source": [
    "px.imshow(output2, color_continuous_scale=\"gray\")"
   ]
  },
  {
   "cell_type": "markdown",
   "id": "8c53446b-1a95-45dd-87a6-5acbd47e1290",
   "metadata": {},
   "source": [
    "## 重點整理\n",
    "\n",
    "* Histogram\n",
    "* Convolution (Filtering)\n",
    "* Morphology (Erosion, Dilation)\n",
    "* Thresholding"
   ]
  },
  {
   "cell_type": "markdown",
   "id": "689148e5-6088-4f48-a7a4-5f4a7a1ca392",
   "metadata": {},
   "source": [
    "## Image Rotating, Flipping, Resizing"
   ]
  },
  {
   "cell_type": "code",
   "execution_count": null,
   "id": "397b0231-4b27-4d9f-ac1a-9404e7f8ebc8",
   "metadata": {},
   "outputs": [],
   "source": [
    "import skimage\n",
    "from PIL import Image"
   ]
  },
  {
   "cell_type": "code",
   "execution_count": null,
   "id": "bae5638a-92ff-417c-a498-560e1d69a20e",
   "metadata": {},
   "outputs": [],
   "source": [
    "camera = skimage.data.camera()"
   ]
  },
  {
   "cell_type": "code",
   "execution_count": null,
   "id": "4ca99faf-5bad-4b1e-8e93-53779ac30d1f",
   "metadata": {},
   "outputs": [],
   "source": [
    "plt.imshow(camera, cmap='gray')"
   ]
  },
  {
   "cell_type": "code",
   "execution_count": null,
   "id": "04bca9ad-a77d-42a0-99b9-0fd08be8063d",
   "metadata": {},
   "outputs": [],
   "source": [
    "plt.imshow(cv2.rotate(camera, cv2.ROTATE_90_CLOCKWISE), cmap='gray')"
   ]
  },
  {
   "cell_type": "markdown",
   "id": "d0406f1f-25a2-48a0-8acb-f447cfe13db9",
   "metadata": {},
   "source": [
    "### 複習：PIL <==> ndarray"
   ]
  },
  {
   "cell_type": "code",
   "execution_count": null,
   "id": "412cd25f-6b7a-4f75-a398-fc9b8aa74a19",
   "metadata": {},
   "outputs": [],
   "source": [
    "# ndarray -> PIL image\n",
    "pil_camera = Image.fromarray(camera)"
   ]
  },
  {
   "cell_type": "code",
   "execution_count": null,
   "id": "ccc9f2fa-28d7-4113-9844-2cfbae6b2df3",
   "metadata": {},
   "outputs": [],
   "source": [
    "pil_camera"
   ]
  },
  {
   "cell_type": "code",
   "execution_count": null,
   "id": "7eae8e70-0cd9-4efd-b26e-b765d24867a2",
   "metadata": {},
   "outputs": [],
   "source": [
    "resized = pil_camera.copy()\n",
    "resized.thumbnail((200, 200))"
   ]
  },
  {
   "cell_type": "code",
   "execution_count": null,
   "id": "919b5565-475e-4922-b91e-84ae9c13bd44",
   "metadata": {},
   "outputs": [],
   "source": [
    "resized"
   ]
  },
  {
   "cell_type": "code",
   "execution_count": null,
   "id": "d613130d-8d59-43cc-8c42-fc329e3d57a9",
   "metadata": {},
   "outputs": [],
   "source": [
    "# PIL image -> ndarray\n",
    "temp = resized.rotate(45, fillcolor='White')\n",
    "camera_45 = np.array(temp)"
   ]
  },
  {
   "cell_type": "code",
   "execution_count": null,
   "id": "c60c674b-af0e-40af-9a30-ec9e405ad308",
   "metadata": {},
   "outputs": [],
   "source": [
    "cv2.imshow('camera', camera_45)\n",
    "cv2.waitKey(0)\n",
    "cv2.destroyAllWindows()"
   ]
  },
  {
   "cell_type": "code",
   "execution_count": null,
   "id": "c996657d-97a2-41a6-830a-e1fa97b48233",
   "metadata": {
    "scrolled": true
   },
   "outputs": [],
   "source": [
    "# 1: horizontal flip\n",
    "# 0: vertical flip\n",
    "# -1: horizontal + vertical\n",
    "plt.imshow(cv2.flip(camera, 0), cmap='gray')"
   ]
  },
  {
   "cell_type": "code",
   "execution_count": null,
   "id": "8ff914bf-8627-4f1a-be10-a119b85fdfa9",
   "metadata": {},
   "outputs": [],
   "source": [
    "# dsize: desired size (200, 200)\n",
    "plt.imshow(cv2.resize(camera, (200, 200)), cmap='gray')"
   ]
  },
  {
   "cell_type": "code",
   "execution_count": null,
   "id": "d524847e-269a-484d-abbb-d47497e01ba3",
   "metadata": {},
   "outputs": [],
   "source": [
    "# fx: x scale\n",
    "# fy: y scale\n",
    "plt.imshow(cv2.resize(camera, None, fx=0.25, fy=0.25), cmap='gray')"
   ]
  },
  {
   "cell_type": "markdown",
   "id": "0c9b6bd3-80d6-4239-9657-a29f8c694d9f",
   "metadata": {},
   "source": [
    "## Draw Lines, Rectangles, Circles, and Text"
   ]
  },
  {
   "cell_type": "code",
   "execution_count": null,
   "id": "df9bfa8f-0d87-43c0-8b6f-4d894875a110",
   "metadata": {},
   "outputs": [],
   "source": [
    "import skimage\n",
    "import cv2\n",
    "from PIL import Image\n",
    "import numpy as np\n",
    "import matplotlib.pyplot as plt\n",
    "import plotly.express as px"
   ]
  },
  {
   "cell_type": "code",
   "execution_count": null,
   "id": "7c7c94fc-8b8d-4cb6-8613-8d77ef9f284b",
   "metadata": {},
   "outputs": [],
   "source": [
    "coffee = skimage.data.coffee()"
   ]
  },
  {
   "cell_type": "code",
   "execution_count": null,
   "id": "1dfc61d9-80fb-44e7-a4f7-44ffcde4489d",
   "metadata": {},
   "outputs": [],
   "source": [
    "type(coffee)"
   ]
  },
  {
   "cell_type": "code",
   "execution_count": null,
   "id": "84225eba-d975-455f-a60e-3f68fdd87030",
   "metadata": {},
   "outputs": [],
   "source": [
    "coffee.shape"
   ]
  },
  {
   "cell_type": "code",
   "execution_count": null,
   "id": "6ce09356-40bd-485b-953e-9b783e682051",
   "metadata": {
    "scrolled": true
   },
   "outputs": [],
   "source": [
    "plt.imshow(coffee)"
   ]
  },
  {
   "cell_type": "code",
   "execution_count": null,
   "id": "f3fe8fa4-a60c-45bd-afc4-6f7db11e7b8a",
   "metadata": {},
   "outputs": [],
   "source": [
    "plt.imshow(coffee)\n",
    "plt.axis('off')"
   ]
  },
  {
   "cell_type": "code",
   "execution_count": null,
   "id": "3c69b583-ff2e-4f2e-af49-cc3f20aa9fe2",
   "metadata": {},
   "outputs": [],
   "source": [
    "Image.fromarray(coffee).size"
   ]
  },
  {
   "cell_type": "code",
   "execution_count": null,
   "id": "06aa5db8-5dc2-4bd6-b9c2-e52ae0e83bf5",
   "metadata": {},
   "outputs": [],
   "source": [
    "cv2.line(coffee, (0, 200), (599, 200), (0, 0, 255), 5)"
   ]
  },
  {
   "cell_type": "code",
   "execution_count": null,
   "id": "7856500b-b1b0-438a-86b6-9e8d62c05aaa",
   "metadata": {},
   "outputs": [],
   "source": [
    "cv2.line(coffee, (300, 0), (300, 399), (0, 255, 0), 5)"
   ]
  },
  {
   "cell_type": "code",
   "execution_count": null,
   "id": "8231b350-78c5-4cf4-99fe-b25992e91d3a",
   "metadata": {},
   "outputs": [],
   "source": [
    "plt.imshow(coffee)"
   ]
  },
  {
   "cell_type": "code",
   "execution_count": null,
   "id": "0304676c-f853-44f8-9eb6-3a89189dc247",
   "metadata": {},
   "outputs": [],
   "source": [
    "cv2.rectangle(coffee, (180, 0), (420, 220), (255, 0, 0), 5);"
   ]
  },
  {
   "cell_type": "code",
   "execution_count": null,
   "id": "152522d5-4762-4d4b-b798-1e4e1a67ec22",
   "metadata": {},
   "outputs": [],
   "source": [
    "plt.imshow(coffee)"
   ]
  },
  {
   "cell_type": "code",
   "execution_count": null,
   "id": "bd0b8638-bc5f-43c7-92bd-bc7ae8bf9bc9",
   "metadata": {},
   "outputs": [],
   "source": [
    "cv2.circle(coffee, (290, 150), 30, (0, 0, 255), 5);"
   ]
  },
  {
   "cell_type": "code",
   "execution_count": null,
   "id": "c72e0da3-8061-4cfc-af8d-a8025dc1ccc0",
   "metadata": {},
   "outputs": [],
   "source": [
    "plt.imshow(coffee)"
   ]
  },
  {
   "cell_type": "code",
   "execution_count": null,
   "id": "1ca6ad59-f0dd-404b-9c42-271000e9c503",
   "metadata": {},
   "outputs": [],
   "source": [
    "cv2.putText(coffee, \"Coffee\", (300, 200), 0, 1, (0, 255, 0), 5);"
   ]
  },
  {
   "cell_type": "code",
   "execution_count": null,
   "id": "db364cbb-072c-41b7-b48a-fcc0e4c2f6d5",
   "metadata": {},
   "outputs": [],
   "source": [
    "cv2.putText(coffee, \"Hello\", (20, 195), cv2.FONT_HERSHEY_SIMPLEX, 1, (0, 255, 0), 2);"
   ]
  },
  {
   "cell_type": "code",
   "execution_count": null,
   "id": "97db9314-9363-49f7-a8fb-75d3c53a63d0",
   "metadata": {},
   "outputs": [],
   "source": [
    "plt.imshow(coffee)"
   ]
  },
  {
   "cell_type": "markdown",
   "id": "34d1e4e3-a1eb-491c-98ce-0dcf4e48adf8",
   "metadata": {},
   "source": [
    "## 練習 01\n",
    "\n",
    "請下載下面網址的圖片，手動標出 Talor Swift 的臉，並填上名字。\n",
    "\n",
    "https://deadline.com/wp-content/uploads/2023/07/taylor-swift-eras-tour.jpg"
   ]
  },
  {
   "cell_type": "code",
   "execution_count": null,
   "id": "37211d96-1295-4654-8dfe-5a2f19dccded",
   "metadata": {},
   "outputs": [],
   "source": [
    "import requests"
   ]
  },
  {
   "cell_type": "code",
   "execution_count": null,
   "id": "093e08fc-b645-437c-acd8-ce7eb5a52b2e",
   "metadata": {},
   "outputs": [],
   "source": [
    "url = \"https://deadline.com/wp-content/uploads/2023/07/taylor-swift-eras-tour.jpg\""
   ]
  },
  {
   "cell_type": "code",
   "execution_count": null,
   "id": "efe1c924-461a-4d33-a364-5ce129995ee3",
   "metadata": {},
   "outputs": [],
   "source": [
    "r = requests.get(url, verify=False)\n",
    "with open('taylor.jpg','wb') as f:\n",
    "    f.write(r.content)"
   ]
  },
  {
   "cell_type": "code",
   "execution_count": null,
   "id": "6e2c0305-0b47-4c93-9bb3-b71f9e967926",
   "metadata": {},
   "outputs": [],
   "source": [
    "taylor = cv2.imread('taylor.jpg')"
   ]
  },
  {
   "cell_type": "code",
   "execution_count": null,
   "id": "9d53ab37-d28a-4559-b103-fd6d5da6765c",
   "metadata": {},
   "outputs": [],
   "source": [
    "px.imshow(taylor)"
   ]
  },
  {
   "cell_type": "code",
   "execution_count": null,
   "id": "9bdbea4e-06dc-4c31-afd6-fa894c023252",
   "metadata": {},
   "outputs": [],
   "source": [
    "px.imshow(taylor[:,:,::-1])"
   ]
  },
  {
   "cell_type": "code",
   "execution_count": null,
   "id": "9ccfaf2a-92df-4f1a-ad4c-cec6f245ef5d",
   "metadata": {},
   "outputs": [],
   "source": [
    "cv2.rectangle(taylor, (600, 500), (1000, 40), (255, 0, 0), 5);"
   ]
  },
  {
   "cell_type": "code",
   "execution_count": null,
   "id": "54707ffc-b396-47bf-8344-b8b102965d7d",
   "metadata": {},
   "outputs": [],
   "source": [
    "cv2.putText(taylor, \"Taylor Swift\", (600, 550), 0, 2, (255, 0, 0), 3);"
   ]
  },
  {
   "cell_type": "code",
   "execution_count": null,
   "id": "eab89673-2c6f-47d2-9f2a-0a96ba6b1e8f",
   "metadata": {},
   "outputs": [],
   "source": [
    "px.imshow(taylor[:,:,::-1])"
   ]
  },
  {
   "cell_type": "markdown",
   "id": "fb4d6317-5f29-4b81-a56b-d080da40c2d2",
   "metadata": {},
   "source": [
    "## 練習 02"
   ]
  },
  {
   "cell_type": "markdown",
   "id": "c06e3f88-27f1-4cd7-aa97-c8116a93e6df",
   "metadata": {},
   "source": [
    "亮度跟對比度調整練習。\n",
    "\n",
    "亮度：像素值 + 調整值\n",
    "\n",
    "對比度：像素質 x 調整比例"
   ]
  },
  {
   "cell_type": "code",
   "execution_count": null,
   "id": "bee5d826-7c1c-42bb-bfce-f7d371ccf2bd",
   "metadata": {},
   "outputs": [],
   "source": [
    "taylor_gray = cv2.cvtColor(taylor, cv2.COLOR_BGR2GRAY)"
   ]
  },
  {
   "cell_type": "code",
   "execution_count": null,
   "id": "e8c6b13c-3704-46f0-9d8c-efc109530822",
   "metadata": {},
   "outputs": [],
   "source": [
    "plt.imshow(taylor_gray, cmap=\"gray\")"
   ]
  },
  {
   "cell_type": "code",
   "execution_count": null,
   "id": "5e8a2f87-e911-4cad-908d-e86bc4d02ce1",
   "metadata": {},
   "outputs": [],
   "source": [
    "list(range(0, 255, 25))"
   ]
  },
  {
   "cell_type": "code",
   "execution_count": null,
   "id": "85385fd2-feb6-4ffe-b529-89ec8a22c5e6",
   "metadata": {},
   "outputs": [],
   "source": [
    "line03 = list(range(0, 255, 25))"
   ]
  },
  {
   "cell_type": "code",
   "execution_count": null,
   "id": "02be4554-8973-40bb-9aff-bbd1cfac453f",
   "metadata": {},
   "outputs": [],
   "source": [
    "test_img = np.array([line03]*11, dtype=\"uint8\")"
   ]
  },
  {
   "cell_type": "code",
   "execution_count": null,
   "id": "98b74587-c90b-473e-8bfe-efa050161a77",
   "metadata": {},
   "outputs": [],
   "source": [
    "test_img"
   ]
  },
  {
   "cell_type": "code",
   "execution_count": null,
   "id": "2b8f2af2-3d76-4e59-802c-777d70c33042",
   "metadata": {},
   "outputs": [],
   "source": [
    "plt.imshow(test_img, cmap=\"gray\")"
   ]
  },
  {
   "cell_type": "code",
   "execution_count": null,
   "id": "4a0e6316-ec82-4758-bdac-e5b27d0eec2e",
   "metadata": {},
   "outputs": [],
   "source": [
    "test_img + 50"
   ]
  },
  {
   "cell_type": "code",
   "execution_count": null,
   "id": "ea18f32e-533f-4592-a88c-8ead4e94e093",
   "metadata": {},
   "outputs": [],
   "source": [
    "np.int64(test_img) + 50"
   ]
  },
  {
   "cell_type": "code",
   "execution_count": null,
   "id": "3dcc74e6-f33e-48f2-bd9d-e81c716efa72",
   "metadata": {
    "scrolled": true
   },
   "outputs": [],
   "source": [
    "np.uint8(np.int64(test_img) + 50)"
   ]
  },
  {
   "cell_type": "code",
   "execution_count": null,
   "id": "fd62cd01-3a4b-45f4-b0c4-6147083da517",
   "metadata": {},
   "outputs": [],
   "source": [
    "test_brightness = np.uint8(np.clip(np.int64(test_img) + 80, 0, 255))"
   ]
  },
  {
   "cell_type": "code",
   "execution_count": null,
   "id": "0a005c4d-611b-47d0-81a8-a9d5222ed233",
   "metadata": {},
   "outputs": [],
   "source": [
    "plt.subplot(1, 2, 1)\n",
    "plt.imshow(test_img, cmap=\"gray\", vmin=0, vmax=255)\n",
    "plt.subplot(1, 2, 2)\n",
    "plt.imshow(test_brightness, cmap=\"gray\", vmin=0, vmax=255)"
   ]
  },
  {
   "cell_type": "code",
   "execution_count": null,
   "id": "a6aae8e7-e181-40f7-89c3-6bca14583206",
   "metadata": {},
   "outputs": [],
   "source": [
    "test_contrast = np.uint8(np.clip(np.float64(test_img)*0.8, 0, 255))"
   ]
  },
  {
   "cell_type": "code",
   "execution_count": null,
   "id": "57b95d20-5371-468e-a1cb-974a2c86ccb0",
   "metadata": {},
   "outputs": [],
   "source": [
    "test_contrast"
   ]
  },
  {
   "cell_type": "code",
   "execution_count": null,
   "id": "47f4db22-c905-460e-be81-0444be09ffab",
   "metadata": {
    "scrolled": true
   },
   "outputs": [],
   "source": [
    "plt.subplot(1, 2, 1)\n",
    "plt.imshow(test_img, cmap=\"gray\", vmin=0, vmax=255)\n",
    "plt.subplot(1, 2, 2)\n",
    "plt.imshow(test_contrast, cmap=\"gray\", vmin=0, vmax=255)"
   ]
  },
  {
   "cell_type": "markdown",
   "id": "b683b841-9720-4461-976d-70eaec4451bd",
   "metadata": {},
   "source": [
    "## 練習 03"
   ]
  },
  {
   "cell_type": "markdown",
   "id": "6d447f94-45e7-47c9-bed9-c8debd1ed3f5",
   "metadata": {},
   "source": [
    "計算以下網址圖片上的燈泡數量。\n",
    "\n",
    "https://github.com/vcdemy/20240418/blob/main/lights.jpg?raw=true"
   ]
  },
  {
   "cell_type": "code",
   "execution_count": null,
   "id": "3960b50f-2b07-43b6-9f9e-b431433ff493",
   "metadata": {},
   "outputs": [],
   "source": [
    "url = \"https://github.com/vcdemy/20240418/blob/main/lights.jpg?raw=true\""
   ]
  },
  {
   "cell_type": "code",
   "execution_count": null,
   "id": "c1f8bec7-97bd-4824-824d-26bc46d7524f",
   "metadata": {},
   "outputs": [],
   "source": [
    "r = requests.get(url)"
   ]
  },
  {
   "cell_type": "code",
   "execution_count": null,
   "id": "594559c9-011b-44bb-8dc7-a10b41baa18a",
   "metadata": {},
   "outputs": [],
   "source": [
    "with open('lights.jpg','wb') as f:\n",
    "    f.write(r.content)"
   ]
  },
  {
   "cell_type": "code",
   "execution_count": null,
   "id": "f6848b52-eb96-403a-ac40-1de44b159219",
   "metadata": {},
   "outputs": [],
   "source": [
    "lights = cv2.imread('lights.jpg')"
   ]
  },
  {
   "cell_type": "code",
   "execution_count": null,
   "id": "de0aa534-72b1-40e2-9e2d-fdee02b4db5d",
   "metadata": {},
   "outputs": [],
   "source": [
    "glights = cv2.cvtColor(lights, cv2.COLOR_BGR2GRAY)"
   ]
  },
  {
   "cell_type": "code",
   "execution_count": null,
   "id": "0795e2d1-9f42-4345-b565-daee4b8d82e1",
   "metadata": {},
   "outputs": [],
   "source": [
    "thresh, img = cv2.threshold(glights, 127, 255, cv2.THRESH_BINARY)"
   ]
  },
  {
   "cell_type": "code",
   "execution_count": null,
   "id": "f83e4325-c1de-4d84-9ae4-b00fc60dc3ab",
   "metadata": {},
   "outputs": [],
   "source": [
    "plt.imshow(img, cmap=\"gray\")"
   ]
  },
  {
   "cell_type": "code",
   "execution_count": null,
   "id": "7c3bde88-6141-4cf8-95c6-5b757ae5ea97",
   "metadata": {},
   "outputs": [],
   "source": [
    "cnts, hierarchy = cv2.findContours(img.copy(), cv2.RETR_EXTERNAL, cv2.CHAIN_APPROX_SIMPLE)\n",
    "for (i, c) in enumerate(cnts):\n",
    "  (x, y, w, h) = cv2.boundingRect(c)\n",
    "  cv2.rectangle(lights, (x, y), (x+w, y+h), (0, 255, 0), 3)\n",
    "  cv2.putText(lights, f\"{i+1}\", (x, y - 5), 2, 0.5, (0, 255, 0), 2)\n",
    "plt.imshow(lights)"
   ]
  },
  {
   "cell_type": "code",
   "execution_count": null,
   "id": "06a43826-04d5-40ce-99af-a1fd9fcc85d7",
   "metadata": {},
   "outputs": [],
   "source": []
  }
 ],
 "metadata": {
  "kernelspec": {
   "display_name": "Python 3 (ipykernel)",
   "language": "python",
   "name": "python3"
  },
  "language_info": {
   "codemirror_mode": {
    "name": "ipython",
    "version": 3
   },
   "file_extension": ".py",
   "mimetype": "text/x-python",
   "name": "python",
   "nbconvert_exporter": "python",
   "pygments_lexer": "ipython3",
   "version": "3.12.3"
  }
 },
 "nbformat": 4,
 "nbformat_minor": 5
}
