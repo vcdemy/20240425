{
 "cells": [
  {
   "cell_type": "markdown",
   "id": "1eec23da-2ce4-4b0d-94e5-cbdbd66debfa",
   "metadata": {},
   "source": [
    "# 20240425筆記"
   ]
  },
  {
   "cell_type": "code",
   "execution_count": 14,
   "id": "f28a64d3-5430-40cd-9e99-90ffb8f02f2f",
   "metadata": {},
   "outputs": [],
   "source": [
    "import cv2\n",
    "import numpy as np\n",
    "import matplotlib.pyplot as plt"
   ]
  },
  {
   "cell_type": "code",
   "execution_count": 8,
   "id": "3442f67a-ab30-4f38-a39b-7bf21c32b7fd",
   "metadata": {},
   "outputs": [],
   "source": [
    "rect = cv2.getStructuringElement(cv2.MORPH_RECT, (3, 3))\n",
    "ellipse = cv2.getStructuringElement(cv2.MORPH_ELLIPSE, (3, 3))"
   ]
  },
  {
   "cell_type": "code",
   "execution_count": 9,
   "id": "1cb0e761-e44e-4b38-882f-fa5c16531ef8",
   "metadata": {},
   "outputs": [
    {
     "data": {
      "text/plain": [
       "array([[1, 1, 1],\n",
       "       [1, 1, 1],\n",
       "       [1, 1, 1]], dtype=uint8)"
      ]
     },
     "execution_count": 9,
     "metadata": {},
     "output_type": "execute_result"
    }
   ],
   "source": [
    "rect"
   ]
  },
  {
   "cell_type": "code",
   "execution_count": 10,
   "id": "2570d585-4700-4a97-8449-120c9c7928cb",
   "metadata": {},
   "outputs": [
    {
     "data": {
      "text/plain": [
       "array([[0, 1, 0],\n",
       "       [1, 1, 1],\n",
       "       [0, 1, 0]], dtype=uint8)"
      ]
     },
     "execution_count": 10,
     "metadata": {},
     "output_type": "execute_result"
    }
   ],
   "source": [
    "ellipse"
   ]
  },
  {
   "cell_type": "code",
   "execution_count": 20,
   "id": "2f5c7887-7b4c-4226-ab66-3c7b7489dd0a",
   "metadata": {},
   "outputs": [
    {
     "name": "stdout",
     "output_type": "stream",
     "text": [
      "[0, 0, 0, 255, 255, 255, 0, 0, 0]\n",
      "[255, 255, 255, 0, 0, 0, 255, 255, 255]\n"
     ]
    }
   ],
   "source": [
    "line1 = [0]*3+[255]*3+[0]*3\n",
    "line2 = [255]*3+[0]*3+[255]*3\n",
    "print(line1)\n",
    "print(line2)"
   ]
  },
  {
   "cell_type": "code",
   "execution_count": 21,
   "id": "67f91f56-6e38-494e-a9eb-bbf257e988ba",
   "metadata": {},
   "outputs": [],
   "source": [
    "img = np.array([line1]*3+[line2]*3+[line1]*3, dtype='uint8')"
   ]
  },
  {
   "cell_type": "code",
   "execution_count": 22,
   "id": "ae639af4-103a-4318-a0b3-5f7af25d9f9f",
   "metadata": {},
   "outputs": [
    {
     "data": {
      "text/plain": [
       "array([[  0,   0,   0, 255, 255, 255,   0,   0,   0],\n",
       "       [  0,   0,   0, 255, 255, 255,   0,   0,   0],\n",
       "       [  0,   0,   0, 255, 255, 255,   0,   0,   0],\n",
       "       [255, 255, 255,   0,   0,   0, 255, 255, 255],\n",
       "       [255, 255, 255,   0,   0,   0, 255, 255, 255],\n",
       "       [255, 255, 255,   0,   0,   0, 255, 255, 255],\n",
       "       [  0,   0,   0, 255, 255, 255,   0,   0,   0],\n",
       "       [  0,   0,   0, 255, 255, 255,   0,   0,   0],\n",
       "       [  0,   0,   0, 255, 255, 255,   0,   0,   0]], dtype=uint8)"
      ]
     },
     "execution_count": 22,
     "metadata": {},
     "output_type": "execute_result"
    }
   ],
   "source": [
    "img"
   ]
  },
  {
   "cell_type": "code",
   "execution_count": 23,
   "id": "0b1118a5-3a80-4aed-b8bc-df69c1b54e82",
   "metadata": {},
   "outputs": [
    {
     "data": {
      "text/plain": [
       "<matplotlib.image.AxesImage at 0x2062d6fa7b0>"
      ]
     },
     "execution_count": 23,
     "metadata": {},
     "output_type": "execute_result"
    },
    {
     "data": {
      "image/png": "[encoded data removed]",
      "text/plain": [
       "<Figure size 640x480 with 1 Axes>"
      ]
     },
     "metadata": {},
     "output_type": "display_data"
    }
   ],
   "source": [
    "plt.imshow(img, cmap='gray')"
   ]
  },
  {
   "cell_type": "code",
   "execution_count": null,
   "id": "964149ff-80e2-463f-b122-64098626b350",
   "metadata": {},
   "outputs": [],
   "source": []
  }
 ],
 "metadata": {
  "kernelspec": {
   "display_name": "Python 3 (ipykernel)",
   "language": "python",
   "name": "python3"
  },
  "language_info": {
   "codemirror_mode": {
    "name": "ipython",
    "version": 3
   },
   "file_extension": ".py",
   "mimetype": "text/x-python",
   "name": "python",
   "nbconvert_exporter": "python",
   "pygments_lexer": "ipython3",
   "version": "3.12.3"
  }
 },
 "nbformat": 4,
 "nbformat_minor": 5
}
