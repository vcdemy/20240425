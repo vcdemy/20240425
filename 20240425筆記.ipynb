{
 "cells": [
  {
   "cell_type": "markdown",
   "id": "1eec23da-2ce4-4b0d-94e5-cbdbd66debfa",
   "metadata": {},
   "source": [
    "# 20240425筆記"
   ]
  },
  {
   "cell_type": "code",
   "execution_count": null,
   "id": "f28a64d3-5430-40cd-9e99-90ffb8f02f2f",
   "metadata": {},
   "outputs": [],
   "source": [
    "import cv2\n",
    "import numpy as np\n",
    "import matplotlib.pyplot as plt\n",
    "import plotly.express as px"
   ]
  },
  {
   "cell_type": "code",
   "execution_count": null,
   "id": "3442f67a-ab30-4f38-a39b-7bf21c32b7fd",
   "metadata": {},
   "outputs": [],
   "source": [
    "rect = cv2.getStructuringElement(cv2.MORPH_RECT, (3, 3))\n",
    "ellipse = cv2.getStructuringElement(cv2.MORPH_ELLIPSE, (3, 3))"
   ]
  },
  {
   "cell_type": "code",
   "execution_count": null,
   "id": "1cb0e761-e44e-4b38-882f-fa5c16531ef8",
   "metadata": {},
   "outputs": [],
   "source": [
    "rect"
   ]
  },
  {
   "cell_type": "code",
   "execution_count": null,
   "id": "2570d585-4700-4a97-8449-120c9c7928cb",
   "metadata": {},
   "outputs": [],
   "source": [
    "ellipse"
   ]
  },
  {
   "cell_type": "code",
   "execution_count": null,
   "id": "2f5c7887-7b4c-4226-ab66-3c7b7489dd0a",
   "metadata": {},
   "outputs": [],
   "source": [
    "line1 = [0]*3+[255]*3+[0]*3\n",
    "line2 = [255]*3+[0]*3+[255]*3\n",
    "print(line1)\n",
    "print(line2)"
   ]
  },
  {
   "cell_type": "code",
   "execution_count": null,
   "id": "67f91f56-6e38-494e-a9eb-bbf257e988ba",
   "metadata": {},
   "outputs": [],
   "source": [
    "img = np.array([line1]*3+[line2]*3+[line1]*3, dtype='uint8')"
   ]
  },
  {
   "cell_type": "code",
   "execution_count": null,
   "id": "ae639af4-103a-4318-a0b3-5f7af25d9f9f",
   "metadata": {},
   "outputs": [],
   "source": [
    "img"
   ]
  },
  {
   "cell_type": "code",
   "execution_count": null,
   "id": "0b1118a5-3a80-4aed-b8bc-df69c1b54e82",
   "metadata": {},
   "outputs": [],
   "source": [
    "plt.imshow(img, cmap='gray')"
   ]
  },
  {
   "cell_type": "code",
   "execution_count": null,
   "id": "964149ff-80e2-463f-b122-64098626b350",
   "metadata": {},
   "outputs": [],
   "source": [
    "cv2.erode(img, rect)"
   ]
  },
  {
   "cell_type": "code",
   "execution_count": null,
   "id": "b441316a-fa50-4b56-8df8-c2d1cf505fa8",
   "metadata": {},
   "outputs": [],
   "source": [
    "cv2.erode(img, ellipse)"
   ]
  },
  {
   "cell_type": "code",
   "execution_count": null,
   "id": "f5d9975a-a9b2-4a06-a901-ae8b310eadb0",
   "metadata": {},
   "outputs": [],
   "source": [
    "kernel = np.array([[1, 1, 1]])\n",
    "# kernel = np.array([[1], [1], [1]])"
   ]
  },
  {
   "cell_type": "code",
   "execution_count": null,
   "id": "cb4cd5aa-4a68-4bd3-9022-10f91559ff02",
   "metadata": {},
   "outputs": [],
   "source": [
    "img"
   ]
  },
  {
   "cell_type": "code",
   "execution_count": null,
   "id": "f91fbd54-2fdb-4586-9e16-ded4f466ac88",
   "metadata": {},
   "outputs": [],
   "source": [
    "cv2.erode(img, kernel)"
   ]
  },
  {
   "cell_type": "code",
   "execution_count": null,
   "id": "b649c47c-dea2-4a04-a79c-62b64d05a648",
   "metadata": {},
   "outputs": [],
   "source": [
    "plt.imshow(cv2.erode(img, kernel), cmap=\"gray\")"
   ]
  },
  {
   "cell_type": "code",
   "execution_count": null,
   "id": "bd00ea29-1931-4337-85b1-2081312f8688",
   "metadata": {},
   "outputs": [],
   "source": [
    "cv2.dilate(img, kernel)"
   ]
  },
  {
   "cell_type": "markdown",
   "id": "dd8227e2-86aa-4813-96c5-b8a92d1abdcb",
   "metadata": {},
   "source": [
    "## Thresholding v.s. adaptiveThresholding"
   ]
  },
  {
   "cell_type": "code",
   "execution_count": null,
   "id": "dab7914a-d8b4-46ac-8d22-3e9bc9367897",
   "metadata": {},
   "outputs": [],
   "source": [
    "doc = cv2.imread('document.jpg', 0)"
   ]
  },
  {
   "cell_type": "code",
   "execution_count": null,
   "id": "abe5d0bd-6dbb-44d8-8cd7-115957f28e67",
   "metadata": {},
   "outputs": [],
   "source": [
    "plt.imshow(doc, cmap='gray')"
   ]
  },
  {
   "cell_type": "code",
   "execution_count": null,
   "id": "7422606f-4fdf-4816-9748-1d50fb06bdb5",
   "metadata": {},
   "outputs": [],
   "source": [
    "# import plotly.express as px\n",
    "px.imshow(doc, color_continuous_scale=\"gray\")"
   ]
  },
  {
   "cell_type": "code",
   "execution_count": null,
   "id": "56e26d1b-4e9f-441d-ab50-a533e232fa41",
   "metadata": {},
   "outputs": [],
   "source": [
    "thresh, thresh_doc = cv2.threshold(doc, 127, 255, cv2.THRESH_BINARY)"
   ]
  },
  {
   "cell_type": "code",
   "execution_count": null,
   "id": "336d76ca-e104-4b03-8766-2fb289293dc6",
   "metadata": {},
   "outputs": [],
   "source": [
    "plt.imshow(thresh_doc, cmap='gray')"
   ]
  },
  {
   "cell_type": "code",
   "execution_count": null,
   "id": "f5303634-2de1-468c-9be8-8360e324b6e5",
   "metadata": {},
   "outputs": [],
   "source": [
    "output = cv2.adaptiveThreshold(doc, 255, cv2.ADAPTIVE_THRESH_MEAN_C, cv2.THRESH_BINARY,11, 2)"
   ]
  },
  {
   "cell_type": "code",
   "execution_count": null,
   "id": "472cc7d1-4a23-4251-a7a7-91a6e1a5220c",
   "metadata": {},
   "outputs": [],
   "source": [
    "plt.imshow(output, cmap='gray')"
   ]
  },
  {
   "cell_type": "code",
   "execution_count": null,
   "id": "f65828ff-9800-4c61-a5c3-9b4897bde7bc",
   "metadata": {},
   "outputs": [],
   "source": [
    "output2 = cv2.adaptiveThreshold(doc, 255, cv2.ADAPTIVE_THRESH_GAUSSIAN_C, cv2.THRESH_BINARY,11, 2)"
   ]
  },
  {
   "cell_type": "code",
   "execution_count": null,
   "id": "7739cea0-ce80-4516-84aa-8f94e4e7aced",
   "metadata": {},
   "outputs": [],
   "source": [
    "plt.imshow(output2, cmap='gray')"
   ]
  },
  {
   "cell_type": "code",
   "execution_count": null,
   "id": "f105fbee-87fc-4315-b586-c812434167fc",
   "metadata": {},
   "outputs": [],
   "source": []
  }
 ],
 "metadata": {
  "kernelspec": {
   "display_name": "Python 3 (ipykernel)",
   "language": "python",
   "name": "python3"
  },
  "language_info": {
   "codemirror_mode": {
    "name": "ipython",
    "version": 3
   },
   "file_extension": ".py",
   "mimetype": "text/x-python",
   "name": "python",
   "nbconvert_exporter": "python",
   "pygments_lexer": "ipython3",
   "version": "3.12.3"
  }
 },
 "nbformat": 4,
 "nbformat_minor": 5
}
